{
 "cells": [
  {
   "cell_type": "markdown",
   "metadata": {},
   "source": [
    "# This program applies graph based TextRank algorithm for extractive summarization\n",
    "\n",
    "How to use:\n",
    " Under '1.3 : Sentence reprentation in TF-IDF' create the pick a story and put it in 'sentences_list' (sentences_list = input_texts[0]). And then run remaining part"
   ]
  },
  {
   "cell_type": "markdown",
   "metadata": {},
   "source": [
    "### 1.0 : Configuration"
   ]
  },
  {
   "cell_type": "code",
   "execution_count": 1,
   "metadata": {},
   "outputs": [
    {
     "name": "stdout",
     "output_type": "stream",
     "text": [
      "The working directory is : C:\\Users\\sattw\\Documents\\Github\\NLP\n"
     ]
    }
   ],
   "source": [
    "## Set up working directory\n",
    "import os\n",
    "workdir = os.getcwd()\n",
    "print(\"The working directory is :\", workdir)"
   ]
  },
  {
   "cell_type": "code",
   "execution_count": 105,
   "metadata": {},
   "outputs": [],
   "source": [
    "## Read required libraries & utilities\n",
    "import os, sys, string\n",
    "\n",
    "import numpy as np\n",
    "import pandas as pd\n",
    "import matplotlib.pyplot as plt\n",
    "from pickle import dump,load\n",
    "\n",
    "import networkx as nx\n",
    "from nltk.tokenize.punkt import PunktSentenceTokenizer\n",
    "from sklearn.feature_extraction.text import TfidfTransformer, CountVectorizer"
   ]
  },
  {
   "cell_type": "markdown",
   "metadata": {},
   "source": [
    "### 1.2 : Read Data "
   ]
  },
  {
   "cell_type": "code",
   "execution_count": 3,
   "metadata": {},
   "outputs": [],
   "source": [
    "NUM_SAMPLES      = 100 # number of samples from the original data."
   ]
  },
  {
   "cell_type": "code",
   "execution_count": 4,
   "metadata": {},
   "outputs": [],
   "source": [
    "##  function to read each document\n",
    "def load_single_doc(filename):\n",
    "    with open(filename, encoding = 'utf-8') as f:\n",
    "        text = f.read()\n",
    "        f.close()\n",
    "    return text\n",
    "\n",
    "##  function to extract news story and highlights\n",
    "def extract_story(doc):\n",
    "    idx = doc.find('@highlight')\n",
    "    story_part, highlight_part = doc[:idx], doc[idx:].split('@highlight')\n",
    "    highlight_part = [h.strip() for h in highlight_part if len(h)>0]\n",
    "    return story_part, highlight_part\n",
    "\n",
    "## function to load all stories from data directory\n",
    "def load_all_stories(dir):\n",
    "    stories = list()\n",
    "    doc_iter = 0\n",
    "    for files in os.listdir(dir):\n",
    "        doc_iter += 1\n",
    "        print(\"processing doc number {}\".format(doc_iter))\n",
    "        filename = os.path.join(dir, files)\n",
    "        doc = load_single_doc(filename)\n",
    "        story_part, highlight_part = extract_story(doc)\n",
    "        if story_part is not None:\n",
    "            stories.append({'story': story_part, 'highlight' : highlight_part})\n",
    "            \n",
    "        if doc_iter == NUM_SAMPLES:\n",
    "            break\n",
    "    return stories\n",
    "\n"
   ]
  },
  {
   "cell_type": "code",
   "execution_count": 5,
   "metadata": {},
   "outputs": [
    {
     "name": "stdout",
     "output_type": "stream",
     "text": [
      "processing doc number 1\n",
      "processing doc number 2\n",
      "processing doc number 3\n",
      "processing doc number 4\n",
      "processing doc number 5\n",
      "processing doc number 6\n",
      "processing doc number 7\n",
      "processing doc number 8\n",
      "processing doc number 9\n",
      "processing doc number 10\n",
      "processing doc number 11\n",
      "processing doc number 12\n",
      "processing doc number 13\n",
      "processing doc number 14\n",
      "processing doc number 15\n",
      "processing doc number 16\n",
      "processing doc number 17\n",
      "processing doc number 18\n",
      "processing doc number 19\n",
      "processing doc number 20\n",
      "processing doc number 21\n",
      "processing doc number 22\n",
      "processing doc number 23\n",
      "processing doc number 24\n",
      "processing doc number 25\n",
      "processing doc number 26\n",
      "processing doc number 27\n",
      "processing doc number 28\n",
      "processing doc number 29\n",
      "processing doc number 30\n",
      "processing doc number 31\n",
      "processing doc number 32\n",
      "processing doc number 33\n",
      "processing doc number 34\n",
      "processing doc number 35\n",
      "processing doc number 36\n",
      "processing doc number 37\n",
      "processing doc number 38\n",
      "processing doc number 39\n",
      "processing doc number 40\n",
      "processing doc number 41\n",
      "processing doc number 42\n",
      "processing doc number 43\n",
      "processing doc number 44\n",
      "processing doc number 45\n",
      "processing doc number 46\n",
      "processing doc number 47\n",
      "processing doc number 48\n",
      "processing doc number 49\n",
      "processing doc number 50\n",
      "processing doc number 51\n",
      "processing doc number 52\n",
      "processing doc number 53\n",
      "processing doc number 54\n",
      "processing doc number 55\n",
      "processing doc number 56\n",
      "processing doc number 57\n",
      "processing doc number 58\n",
      "processing doc number 59\n",
      "processing doc number 60\n",
      "processing doc number 61\n",
      "processing doc number 62\n",
      "processing doc number 63\n",
      "processing doc number 64\n",
      "processing doc number 65\n",
      "processing doc number 66\n",
      "processing doc number 67\n",
      "processing doc number 68\n",
      "processing doc number 69\n",
      "processing doc number 70\n",
      "processing doc number 71\n",
      "processing doc number 72\n",
      "processing doc number 73\n",
      "processing doc number 74\n",
      "processing doc number 75\n",
      "processing doc number 76\n",
      "processing doc number 77\n",
      "processing doc number 78\n",
      "processing doc number 79\n",
      "processing doc number 80\n",
      "processing doc number 81\n",
      "processing doc number 82\n",
      "processing doc number 83\n",
      "processing doc number 84\n",
      "processing doc number 85\n",
      "processing doc number 86\n",
      "processing doc number 87\n",
      "processing doc number 88\n",
      "processing doc number 89\n",
      "processing doc number 90\n",
      "processing doc number 91\n",
      "processing doc number 92\n",
      "processing doc number 93\n",
      "processing doc number 94\n",
      "processing doc number 95\n",
      "processing doc number 96\n",
      "processing doc number 97\n",
      "processing doc number 98\n",
      "processing doc number 99\n",
      "processing doc number 100\n",
      "Loaded Stories 100\n"
     ]
    }
   ],
   "source": [
    "# load stories\n",
    "dir = os.path.join(workdir, 'Data', 'stories_text_summarization_dataset_train') \n",
    "stories = load_all_stories(dir)\n",
    "print('Loaded Stories %d' % len(stories))"
   ]
  },
  {
   "cell_type": "code",
   "execution_count": 6,
   "metadata": {},
   "outputs": [],
   "source": [
    "## Clean data\n",
    "## 1.4.1 : Remove CNN office if exists\n",
    "## 1.4.2 : tokenize on whitespace\n",
    "## 1.4.3 : convert to lowercase\n",
    "## 1.4.4 : remove punctuation chars from each tokens\n",
    "## 1.4.5 : remove words that have non-alphabatic chars\n",
    "\n",
    "def data_cleansing(lines):\n",
    "    cleaned = list()\n",
    "    punct_table = str.maketrans('', '', string.punctuation)\n",
    "    for line in lines:\n",
    "        \n",
    "        ## 1.4.1\n",
    "        idx = line.find('(CNN) -- ')\n",
    "        if idx > -1:\n",
    "            line = line[idx+len('(CNN)'):]\n",
    "            \n",
    "        ## 1.4.2\n",
    "        line = line.split()\n",
    "        \n",
    "        ## 1.4.3\n",
    "        line = [word.lower() for word in line]\n",
    "        \n",
    "        ## 1.4.4\n",
    "        line = [w.translate(punct_table) for w in line]\n",
    "        \n",
    "        ## 1.4.5\n",
    "        line = [word for word in line if word.isalpha()]\n",
    "        \n",
    "        ## store as string\n",
    "        cleaned.append(' '.join(line))\n",
    "        \n",
    "        ## remove empty strings\n",
    "        cleaned = [c for c in cleaned if len(c) > 0]\n",
    "    return cleaned"
   ]
  },
  {
   "cell_type": "code",
   "execution_count": 7,
   "metadata": {},
   "outputs": [],
   "source": [
    "# clean stories\n",
    "stories_cleaned = list()\n",
    "for example in stories:\n",
    "    cleaned_temp_s = str()\n",
    "    cleaned_temp_h = str()\n",
    "    \n",
    "    example['story'] = data_cleansing(example['story'].split('\\n'))\n",
    "    example['highlight'] = data_cleansing(example['highlight'])\n",
    "   \n",
    "    ##cleaned_temp_s = ' '.join([str(n) for n in example['story']]) \n",
    "    ##cleaned_temp_h = ' '.join([str(n) for n in example['highlight']]) \n",
    "    \n",
    "    ##stories_cleaned.append({'story': cleaned_temp_s , 'highlight' : cleaned_temp_h})\n",
    "    stories_cleaned.append({'story': example['story'] , 'highlight' : example['highlight']})"
   ]
  },
  {
   "cell_type": "code",
   "execution_count": 8,
   "metadata": {},
   "outputs": [
    {
     "data": {
      "text/plain": [
       "{'story': ['its official us president barack obama wants lawmakers to weigh in on whether to use military force in syria',\n",
       "  'obama sent a letter to the heads of the house and senate on saturday night hours after announcing that he believes military action against syrian targets is the right step to take over the alleged use of chemical weapons',\n",
       "  'the proposed legislation from obama asks congress to approve the use of military force to deter disrupt prevent and degrade the potential for future uses of chemical weapons or other weapons of mass destruction',\n",
       "  'its a step that is set to turn an international crisis into a fierce domestic political battle',\n",
       "  'there are key questions looming over the debate what did un weapons inspectors find in syria what happens if congress votes no and how will the syrian government react',\n",
       "  'in a televised address from the white house rose garden earlier saturday the president said he would take his case to congress not because he has to but because he wants to',\n",
       "  'while i believe i have the authority to carry out this military action without specific congressional authorization i know that the country will be stronger if we take this course and our actions will be even more effective he said we should have this debate because the issues are too big for business as usual',\n",
       "  'obama said top congressional leaders had agreed to schedule a debate when the body returns to washington on september the senate foreign relations committee will hold a hearing over the matter on tuesday sen robert menendez said',\n",
       "  'transcript read obamas full remarks',\n",
       "  'syrian crisis latest developments',\n",
       "  'un inspectors leave syria',\n",
       "  'obamas remarks came shortly after un inspectors left syria carrying evidence that will determine whether chemical weapons were used in an attack early last week in a damascus suburb',\n",
       "  'the aim of the game here the mandate is very clear and that is to ascertain whether chemical weapons were used and not by whom un spokesman martin nesirky told reporters on saturday',\n",
       "  'but who used the weapons in the reported toxic gas attack in a damascus suburb on august has been a key point of global debate over the syrian crisis',\n",
       "  'top us officials have said theres no doubt that the syrian government was behind it while syrian officials have denied responsibility and blamed jihadists fighting with the rebels',\n",
       "  'british and us intelligence reports say the attack involved chemical weapons but un officials have stressed the importance of waiting for an official report from inspectors',\n",
       "  'the inspectors will share their findings with un secretarygeneral ban kimoon ban who has said he wants to wait until the un teams final report is completed before presenting it to the un security council',\n",
       "  'the organization for the prohibition of chemical weapons which nine of the inspectors belong to said saturday that it could take up to three weeks to analyze the evidence they collected',\n",
       "  'it needs time to be able to analyze the information and the samples nesirky said',\n",
       "  'he noted that ban has repeatedly said there is no alternative to a political solution to the crisis in syria and that a military solution is not an option',\n",
       "  'bergen syria is a problem from hell for the us',\n",
       "  'obama this menace must be confronted',\n",
       "  'obamas senior advisers have debated the next steps to take and the presidents comments saturday came amid mounting political pressure over the situation in syria some us lawmakers have called for immediate action while others warn of stepping into what could become a quagmire',\n",
       "  'some global leaders have expressed support but the british parliaments vote against military action earlier this week was a blow to obamas hopes of getting strong backing from key nato allies',\n",
       "  'on saturday obama proposed what he said would be a limited military action against syrian president bashar alassad any military attack would not be openended or include us ground forces he said',\n",
       "  'syrias alleged use of chemical weapons earlier this month is an assault on human dignity the president said',\n",
       "  'a failure to respond with force obama argued could lead to escalating use of chemical weapons or their proliferation to terrorist groups who would do our people harm in a world with many dangers this menace must be confronted',\n",
       "  'syria missile strike what would happen next',\n",
       "  'map us and allied assets around syria',\n",
       "  'obama decision came friday night',\n",
       "  'on friday night the president made a lastminute decision to consult lawmakers',\n",
       "  'what will happen if they vote no',\n",
       "  'its unclear a senior administration official told cnn that obama has the authority to act without congress even if congress rejects his request for authorization to use force',\n",
       "  'obama on saturday continued to shore up support for a strike on the alassad government',\n",
       "  'he spoke by phone with french president francois hollande before his rose garden speech',\n",
       "  'the two leaders agreed that the international community must deliver a resolute message to the assad regime and others who would consider using chemical weapons that these crimes are unacceptable and those who violate this international norm will be held accountable by the world the white house said',\n",
       "  'meanwhile as uncertainty loomed over how congress would weigh in us military officials said they remained at the ready',\n",
       "  'key assertions us intelligence report on syria',\n",
       "  'syria who wants what after chemical weapons horror',\n",
       "  'reactions mixed to obamas speech',\n",
       "  'a spokesman for the syrian national coalition said that the opposition group was disappointed by obamas announcement',\n",
       "  'our fear now is that the lack of action could embolden the regime and they repeat his attacks in a more serious way said spokesman louay safi so we are quite concerned',\n",
       "  'some members of congress applauded obamas decision',\n",
       "  'house speaker john boehner majority leader eric cantor majority whip kevin mccarthy and conference chair cathy mcmorris rodgers issued a statement saturday praising the president',\n",
       "  'under the constitution the responsibility to declare war lies with congress the republican lawmakers said we are glad the president is seeking authorization for any military action in syria in response to serious substantive questions being raised',\n",
       "  'more than legislators including of obamas fellow democrats had signed letters calling for either a vote or at least a full debate before any us action',\n",
       "  'british prime minister david cameron whose own attempt to get lawmakers in his country to support military action in syria failed earlier this week responded to obamas speech in a twitter post saturday',\n",
       "  'i understand and support barack obamas position on syria cameron said',\n",
       "  'an influential lawmaker in russia which has stood by syria and criticized the united states had his own theory',\n",
       "  'the main reason obama is turning to the congress the military operation did not get enough support either in the world among allies of the us or in the united states itself alexei pushkov chairman of the internationalaffairs committee of the russian state duma said in a twitter post',\n",
       "  'in the united states scattered groups of antiwar protesters around the country took to the streets saturday',\n",
       "  'like many other americanswere just tired of the united states getting involved and invading and bombing other countries said robin rosecrans who was among hundreds at a los angeles demonstration',\n",
       "  'what do syrias neighbors think',\n",
       "  'why russia china iran stand by assad',\n",
       "  'syrias government unfazed',\n",
       "  'after obamas speech a military and political analyst on syrian state tv said obama is embarrassed that russia opposes military action against syria is crying for help for someone to come to his rescue and is facing two defeats on the political and military levels',\n",
       "  'syrias prime minister appeared unfazed by the saberrattling',\n",
       "  'the syrian armys status is on maximum readiness and fingers are on the trigger to confront all challenges wael nader alhalqi said during a meeting with a delegation of syrian expatriates from italy according to a banner on syria state tv that was broadcast prior to obamas address',\n",
       "  'an anchor on syrian state television said obama appeared to be preparing for an aggression on syria based on repeated lies',\n",
       "  'a top syrian diplomat told the state television network that obama was facing pressure to take military action from israel turkey some arabs and rightwing extremists in the united states',\n",
       "  'i think he has done well by doing what cameron did in terms of taking the issue to parliament said bashar jaafari syrias ambassador to the united nations',\n",
       "  'both obama and cameron he said climbed to the top of the tree and dont know how to get down',\n",
       "  'the syrian government has denied that it used chemical weapons in the august attack saying that jihadists fighting with the rebels used them in an effort to turn global sentiments against it',\n",
       "  'british intelligence had put the number of people killed in the attack at more than',\n",
       "  'on saturday obama said all told well over people were murdered us secretary of state john kerry on friday cited a death toll of more than of them children no explanation was offered for the discrepancy',\n",
       "  'iran us military action in syria would spark disaster',\n",
       "  'opinion why strikes in syria are a bad idea'],\n",
       " 'highlight': ['syrian official obama climbed to the top of the tree doesnt know how to get down',\n",
       "  'obama sends a letter to the heads of the house and senate',\n",
       "  'obama to seek congressional approval on military action against syria',\n",
       "  'aim is to determine whether cw were used not by whom says un spokesman']}"
      ]
     },
     "execution_count": 8,
     "metadata": {},
     "output_type": "execute_result"
    }
   ],
   "source": [
    "stories[0]"
   ]
  },
  {
   "cell_type": "code",
   "execution_count": 9,
   "metadata": {},
   "outputs": [
    {
     "data": {
      "text/plain": [
       "{'story': ['its official us president barack obama wants lawmakers to weigh in on whether to use military force in syria',\n",
       "  'obama sent a letter to the heads of the house and senate on saturday night hours after announcing that he believes military action against syrian targets is the right step to take over the alleged use of chemical weapons',\n",
       "  'the proposed legislation from obama asks congress to approve the use of military force to deter disrupt prevent and degrade the potential for future uses of chemical weapons or other weapons of mass destruction',\n",
       "  'its a step that is set to turn an international crisis into a fierce domestic political battle',\n",
       "  'there are key questions looming over the debate what did un weapons inspectors find in syria what happens if congress votes no and how will the syrian government react',\n",
       "  'in a televised address from the white house rose garden earlier saturday the president said he would take his case to congress not because he has to but because he wants to',\n",
       "  'while i believe i have the authority to carry out this military action without specific congressional authorization i know that the country will be stronger if we take this course and our actions will be even more effective he said we should have this debate because the issues are too big for business as usual',\n",
       "  'obama said top congressional leaders had agreed to schedule a debate when the body returns to washington on september the senate foreign relations committee will hold a hearing over the matter on tuesday sen robert menendez said',\n",
       "  'transcript read obamas full remarks',\n",
       "  'syrian crisis latest developments',\n",
       "  'un inspectors leave syria',\n",
       "  'obamas remarks came shortly after un inspectors left syria carrying evidence that will determine whether chemical weapons were used in an attack early last week in a damascus suburb',\n",
       "  'the aim of the game here the mandate is very clear and that is to ascertain whether chemical weapons were used and not by whom un spokesman martin nesirky told reporters on saturday',\n",
       "  'but who used the weapons in the reported toxic gas attack in a damascus suburb on august has been a key point of global debate over the syrian crisis',\n",
       "  'top us officials have said theres no doubt that the syrian government was behind it while syrian officials have denied responsibility and blamed jihadists fighting with the rebels',\n",
       "  'british and us intelligence reports say the attack involved chemical weapons but un officials have stressed the importance of waiting for an official report from inspectors',\n",
       "  'the inspectors will share their findings with un secretarygeneral ban kimoon ban who has said he wants to wait until the un teams final report is completed before presenting it to the un security council',\n",
       "  'the organization for the prohibition of chemical weapons which nine of the inspectors belong to said saturday that it could take up to three weeks to analyze the evidence they collected',\n",
       "  'it needs time to be able to analyze the information and the samples nesirky said',\n",
       "  'he noted that ban has repeatedly said there is no alternative to a political solution to the crisis in syria and that a military solution is not an option',\n",
       "  'bergen syria is a problem from hell for the us',\n",
       "  'obama this menace must be confronted',\n",
       "  'obamas senior advisers have debated the next steps to take and the presidents comments saturday came amid mounting political pressure over the situation in syria some us lawmakers have called for immediate action while others warn of stepping into what could become a quagmire',\n",
       "  'some global leaders have expressed support but the british parliaments vote against military action earlier this week was a blow to obamas hopes of getting strong backing from key nato allies',\n",
       "  'on saturday obama proposed what he said would be a limited military action against syrian president bashar alassad any military attack would not be openended or include us ground forces he said',\n",
       "  'syrias alleged use of chemical weapons earlier this month is an assault on human dignity the president said',\n",
       "  'a failure to respond with force obama argued could lead to escalating use of chemical weapons or their proliferation to terrorist groups who would do our people harm in a world with many dangers this menace must be confronted',\n",
       "  'syria missile strike what would happen next',\n",
       "  'map us and allied assets around syria',\n",
       "  'obama decision came friday night',\n",
       "  'on friday night the president made a lastminute decision to consult lawmakers',\n",
       "  'what will happen if they vote no',\n",
       "  'its unclear a senior administration official told cnn that obama has the authority to act without congress even if congress rejects his request for authorization to use force',\n",
       "  'obama on saturday continued to shore up support for a strike on the alassad government',\n",
       "  'he spoke by phone with french president francois hollande before his rose garden speech',\n",
       "  'the two leaders agreed that the international community must deliver a resolute message to the assad regime and others who would consider using chemical weapons that these crimes are unacceptable and those who violate this international norm will be held accountable by the world the white house said',\n",
       "  'meanwhile as uncertainty loomed over how congress would weigh in us military officials said they remained at the ready',\n",
       "  'key assertions us intelligence report on syria',\n",
       "  'syria who wants what after chemical weapons horror',\n",
       "  'reactions mixed to obamas speech',\n",
       "  'a spokesman for the syrian national coalition said that the opposition group was disappointed by obamas announcement',\n",
       "  'our fear now is that the lack of action could embolden the regime and they repeat his attacks in a more serious way said spokesman louay safi so we are quite concerned',\n",
       "  'some members of congress applauded obamas decision',\n",
       "  'house speaker john boehner majority leader eric cantor majority whip kevin mccarthy and conference chair cathy mcmorris rodgers issued a statement saturday praising the president',\n",
       "  'under the constitution the responsibility to declare war lies with congress the republican lawmakers said we are glad the president is seeking authorization for any military action in syria in response to serious substantive questions being raised',\n",
       "  'more than legislators including of obamas fellow democrats had signed letters calling for either a vote or at least a full debate before any us action',\n",
       "  'british prime minister david cameron whose own attempt to get lawmakers in his country to support military action in syria failed earlier this week responded to obamas speech in a twitter post saturday',\n",
       "  'i understand and support barack obamas position on syria cameron said',\n",
       "  'an influential lawmaker in russia which has stood by syria and criticized the united states had his own theory',\n",
       "  'the main reason obama is turning to the congress the military operation did not get enough support either in the world among allies of the us or in the united states itself alexei pushkov chairman of the internationalaffairs committee of the russian state duma said in a twitter post',\n",
       "  'in the united states scattered groups of antiwar protesters around the country took to the streets saturday',\n",
       "  'like many other americanswere just tired of the united states getting involved and invading and bombing other countries said robin rosecrans who was among hundreds at a los angeles demonstration',\n",
       "  'what do syrias neighbors think',\n",
       "  'why russia china iran stand by assad',\n",
       "  'syrias government unfazed',\n",
       "  'after obamas speech a military and political analyst on syrian state tv said obama is embarrassed that russia opposes military action against syria is crying for help for someone to come to his rescue and is facing two defeats on the political and military levels',\n",
       "  'syrias prime minister appeared unfazed by the saberrattling',\n",
       "  'the syrian armys status is on maximum readiness and fingers are on the trigger to confront all challenges wael nader alhalqi said during a meeting with a delegation of syrian expatriates from italy according to a banner on syria state tv that was broadcast prior to obamas address',\n",
       "  'an anchor on syrian state television said obama appeared to be preparing for an aggression on syria based on repeated lies',\n",
       "  'a top syrian diplomat told the state television network that obama was facing pressure to take military action from israel turkey some arabs and rightwing extremists in the united states',\n",
       "  'i think he has done well by doing what cameron did in terms of taking the issue to parliament said bashar jaafari syrias ambassador to the united nations',\n",
       "  'both obama and cameron he said climbed to the top of the tree and dont know how to get down',\n",
       "  'the syrian government has denied that it used chemical weapons in the august attack saying that jihadists fighting with the rebels used them in an effort to turn global sentiments against it',\n",
       "  'british intelligence had put the number of people killed in the attack at more than',\n",
       "  'on saturday obama said all told well over people were murdered us secretary of state john kerry on friday cited a death toll of more than of them children no explanation was offered for the discrepancy',\n",
       "  'iran us military action in syria would spark disaster',\n",
       "  'opinion why strikes in syria are a bad idea'],\n",
       " 'highlight': ['syrian official obama climbed to the top of the tree doesnt know how to get down',\n",
       "  'obama sends a letter to the heads of the house and senate',\n",
       "  'obama to seek congressional approval on military action against syria',\n",
       "  'aim is to determine whether cw were used not by whom says un spokesman']}"
      ]
     },
     "execution_count": 9,
     "metadata": {},
     "output_type": "execute_result"
    }
   ],
   "source": [
    "stories_cleaned[0]"
   ]
  },
  {
   "cell_type": "code",
   "execution_count": 73,
   "metadata": {},
   "outputs": [
    {
     "name": "stdout",
     "output_type": "stream",
     "text": [
      "['its official us president barack obama wants lawmakers to weigh in on whether to use military force in syria', 'obama sent a letter to the heads of the house and senate on saturday night hours after announcing that he believes military action against syrian targets is the right step to take over the alleged use of chemical weapons', 'the proposed legislation from obama asks congress to approve the use of military force to deter disrupt prevent and degrade the potential for future uses of chemical weapons or other weapons of mass destruction', 'its a step that is set to turn an international crisis into a fierce domestic political battle', 'there are key questions looming over the debate what did un weapons inspectors find in syria what happens if congress votes no and how will the syrian government react', 'in a televised address from the white house rose garden earlier saturday the president said he would take his case to congress not because he has to but because he wants to', 'while i believe i have the authority to carry out this military action without specific congressional authorization i know that the country will be stronger if we take this course and our actions will be even more effective he said we should have this debate because the issues are too big for business as usual', 'obama said top congressional leaders had agreed to schedule a debate when the body returns to washington on september the senate foreign relations committee will hold a hearing over the matter on tuesday sen robert menendez said', 'transcript read obamas full remarks', 'syrian crisis latest developments', 'un inspectors leave syria', 'obamas remarks came shortly after un inspectors left syria carrying evidence that will determine whether chemical weapons were used in an attack early last week in a damascus suburb', 'the aim of the game here the mandate is very clear and that is to ascertain whether chemical weapons were used and not by whom un spokesman martin nesirky told reporters on saturday', 'but who used the weapons in the reported toxic gas attack in a damascus suburb on august has been a key point of global debate over the syrian crisis', 'top us officials have said theres no doubt that the syrian government was behind it while syrian officials have denied responsibility and blamed jihadists fighting with the rebels', 'british and us intelligence reports say the attack involved chemical weapons but un officials have stressed the importance of waiting for an official report from inspectors', 'the inspectors will share their findings with un secretarygeneral ban kimoon ban who has said he wants to wait until the un teams final report is completed before presenting it to the un security council', 'the organization for the prohibition of chemical weapons which nine of the inspectors belong to said saturday that it could take up to three weeks to analyze the evidence they collected', 'it needs time to be able to analyze the information and the samples nesirky said', 'he noted that ban has repeatedly said there is no alternative to a political solution to the crisis in syria and that a military solution is not an option', 'bergen syria is a problem from hell for the us', 'obama this menace must be confronted', 'obamas senior advisers have debated the next steps to take and the presidents comments saturday came amid mounting political pressure over the situation in syria some us lawmakers have called for immediate action while others warn of stepping into what could become a quagmire', 'some global leaders have expressed support but the british parliaments vote against military action earlier this week was a blow to obamas hopes of getting strong backing from key nato allies', 'on saturday obama proposed what he said would be a limited military action against syrian president bashar alassad any military attack would not be openended or include us ground forces he said', 'syrias alleged use of chemical weapons earlier this month is an assault on human dignity the president said', 'a failure to respond with force obama argued could lead to escalating use of chemical weapons or their proliferation to terrorist groups who would do our people harm in a world with many dangers this menace must be confronted', 'syria missile strike what would happen next', 'map us and allied assets around syria', 'obama decision came friday night', 'on friday night the president made a lastminute decision to consult lawmakers', 'what will happen if they vote no', 'its unclear a senior administration official told cnn that obama has the authority to act without congress even if congress rejects his request for authorization to use force', 'obama on saturday continued to shore up support for a strike on the alassad government', 'he spoke by phone with french president francois hollande before his rose garden speech', 'the two leaders agreed that the international community must deliver a resolute message to the assad regime and others who would consider using chemical weapons that these crimes are unacceptable and those who violate this international norm will be held accountable by the world the white house said', 'meanwhile as uncertainty loomed over how congress would weigh in us military officials said they remained at the ready', 'key assertions us intelligence report on syria', 'syria who wants what after chemical weapons horror', 'reactions mixed to obamas speech', 'a spokesman for the syrian national coalition said that the opposition group was disappointed by obamas announcement', 'our fear now is that the lack of action could embolden the regime and they repeat his attacks in a more serious way said spokesman louay safi so we are quite concerned', 'some members of congress applauded obamas decision', 'house speaker john boehner majority leader eric cantor majority whip kevin mccarthy and conference chair cathy mcmorris rodgers issued a statement saturday praising the president', 'under the constitution the responsibility to declare war lies with congress the republican lawmakers said we are glad the president is seeking authorization for any military action in syria in response to serious substantive questions being raised', 'more than legislators including of obamas fellow democrats had signed letters calling for either a vote or at least a full debate before any us action', 'british prime minister david cameron whose own attempt to get lawmakers in his country to support military action in syria failed earlier this week responded to obamas speech in a twitter post saturday', 'i understand and support barack obamas position on syria cameron said', 'an influential lawmaker in russia which has stood by syria and criticized the united states had his own theory', 'the main reason obama is turning to the congress the military operation did not get enough support either in the world among allies of the us or in the united states itself alexei pushkov chairman of the internationalaffairs committee of the russian state duma said in a twitter post', 'in the united states scattered groups of antiwar protesters around the country took to the streets saturday', 'like many other americanswere just tired of the united states getting involved and invading and bombing other countries said robin rosecrans who was among hundreds at a los angeles demonstration', 'what do syrias neighbors think', 'why russia china iran stand by assad', 'syrias government unfazed', 'after obamas speech a military and political analyst on syrian state tv said obama is embarrassed that russia opposes military action against syria is crying for help for someone to come to his rescue and is facing two defeats on the political and military levels', 'syrias prime minister appeared unfazed by the saberrattling', 'the syrian armys status is on maximum readiness and fingers are on the trigger to confront all challenges wael nader alhalqi said during a meeting with a delegation of syrian expatriates from italy according to a banner on syria state tv that was broadcast prior to obamas address', 'an anchor on syrian state television said obama appeared to be preparing for an aggression on syria based on repeated lies', 'a top syrian diplomat told the state television network that obama was facing pressure to take military action from israel turkey some arabs and rightwing extremists in the united states', 'i think he has done well by doing what cameron did in terms of taking the issue to parliament said bashar jaafari syrias ambassador to the united nations', 'both obama and cameron he said climbed to the top of the tree and dont know how to get down', 'the syrian government has denied that it used chemical weapons in the august attack saying that jihadists fighting with the rebels used them in an effort to turn global sentiments against it', 'british intelligence had put the number of people killed in the attack at more than', 'on saturday obama said all told well over people were murdered us secretary of state john kerry on friday cited a death toll of more than of them children no explanation was offered for the discrepancy', 'iran us military action in syria would spark disaster', 'opinion why strikes in syria are a bad idea']\n",
      " \n",
      "['syrian official obama climbed to the top of the tree doesnt know how to get down', 'obama sends a letter to the heads of the house and senate', 'obama to seek congressional approval on military action against syria', 'aim is to determine whether cw were used not by whom says un spokesman']\n"
     ]
    }
   ],
   "source": [
    "### Separate story and summary into different list \n",
    "input_texts         = []  # placeholder to save in input text (Story)\n",
    "target_texts        = []  # placeholder to save in target text (Summary)\n",
    "\n",
    "for i, val in enumerate(stories_cleaned):\n",
    "    if i == NUM_SAMPLES:\n",
    "        break\n",
    "    input_texts.append(val[\"story\"])\n",
    "    target_texts.append(val[\"highlight\"])\n",
    "\n",
    "print(input_texts[0])\n",
    "print(\" \")\n",
    "print(target_texts[0])\n",
    "\n"
   ]
  },
  {
   "cell_type": "code",
   "execution_count": 74,
   "metadata": {},
   "outputs": [
    {
     "data": {
      "text/plain": [
       "list"
      ]
     },
     "execution_count": 74,
     "metadata": {},
     "output_type": "execute_result"
    }
   ],
   "source": [
    "type(input_texts[0])"
   ]
  },
  {
   "cell_type": "code",
   "execution_count": 66,
   "metadata": {},
   "outputs": [
    {
     "data": {
      "image/png": "[encoded data removed]",
      "text/plain": [
       "<Figure size 432x288 with 2 Axes>"
      ]
     },
     "metadata": {
      "needs_background": "light"
     },
     "output_type": "display_data"
    }
   ],
   "source": [
    "##Plot the sequence distribution of stories\n",
    "text_word_count = []\n",
    "summary_word_count = []\n",
    "\n",
    "# populate the lists with sentence lengths\n",
    "for i in input_texts:\n",
    "      text_word_count.append(len(str(i).split()))\n",
    "\n",
    "for i in target_texts:\n",
    "      summary_word_count.append(len(str(i).split()))\n",
    "\n",
    "length_df = pd.DataFrame({'text':text_word_count, 'summary':summary_word_count})\n",
    "length_df.hist(bins = 30)\n",
    "plt.show()"
   ]
  },
  {
   "cell_type": "code",
   "execution_count": 80,
   "metadata": {},
   "outputs": [
    {
     "name": "stdout",
     "output_type": "stream",
     "text": [
      "1511\n",
      "504\n",
      "985\n",
      "912\n",
      "275\n",
      "527\n",
      "1212\n",
      "811\n",
      "522\n",
      "439\n",
      "289\n",
      "402\n",
      "786\n",
      "515\n",
      "1344\n",
      "1079\n",
      "751\n",
      "259\n",
      "1026\n",
      "463\n",
      "165\n",
      "292\n",
      "1188\n",
      "496\n",
      "1070\n",
      "493\n",
      "119\n",
      "753\n",
      "679\n",
      "991\n",
      "593\n",
      "429\n",
      "1176\n",
      "220\n",
      "473\n",
      "188\n",
      "437\n",
      "454\n",
      "1052\n",
      "442\n",
      "1114\n",
      "1065\n",
      "479\n",
      "485\n",
      "982\n",
      "1058\n",
      "754\n",
      "876\n",
      "361\n",
      "84\n",
      "283\n",
      "911\n",
      "540\n",
      "223\n",
      "267\n",
      "312\n",
      "535\n",
      "1153\n",
      "790\n",
      "390\n",
      "999\n",
      "952\n",
      "592\n",
      "786\n",
      "564\n",
      "1077\n",
      "438\n",
      "936\n",
      "883\n",
      "262\n",
      "264\n",
      "1042\n",
      "222\n",
      "818\n",
      "818\n",
      "372\n",
      "333\n",
      "724\n",
      "691\n",
      "681\n",
      "877\n",
      "421\n",
      "893\n",
      "1539\n",
      "702\n",
      "937\n",
      "586\n",
      "343\n",
      "204\n",
      "432\n",
      "401\n",
      "414\n",
      "1\n",
      "174\n",
      "1144\n",
      "267\n",
      "949\n",
      "936\n",
      "1050\n",
      "1041\n"
     ]
    }
   ],
   "source": [
    "for i,v in enumerate(input_texts):\n",
    "    print(len(str(v).split()))"
   ]
  },
  {
   "cell_type": "code",
   "execution_count": 81,
   "metadata": {},
   "outputs": [],
   "source": [
    "##Select top N samples with specific sequence length threshold (longests)\n",
    "def sub_sample(seq_len_threshold):\n",
    "    idx = [i for i,v in enumerate(input_texts) if len(str(v).split()) >= seq_len_threshold] ## used greater than, I want few long sentences \n",
    "    input_texts_subsample = [input_texts[i] for i in idx]\n",
    "    target_texts_subsample = [target_texts[i] for i in idx]\n",
    "    return input_texts_subsample,target_texts_subsample\n",
    "    \n",
    "input_texts,target_texts = sub_sample(seq_len_threshold=1200)"
   ]
  },
  {
   "cell_type": "code",
   "execution_count": 82,
   "metadata": {},
   "outputs": [
    {
     "name": "stdout",
     "output_type": "stream",
     "text": [
      "4\n",
      "4\n"
     ]
    }
   ],
   "source": [
    "print(len(input_texts))\n",
    "print(len(target_texts))"
   ]
  },
  {
   "cell_type": "code",
   "execution_count": 83,
   "metadata": {},
   "outputs": [
    {
     "name": "stdout",
     "output_type": "stream",
     "text": [
      "['its official us president barack obama wants lawmakers to weigh in on whether to use military force in syria', 'obama sent a letter to the heads of the house and senate on saturday night hours after announcing that he believes military action against syrian targets is the right step to take over the alleged use of chemical weapons', 'the proposed legislation from obama asks congress to approve the use of military force to deter disrupt prevent and degrade the potential for future uses of chemical weapons or other weapons of mass destruction', 'its a step that is set to turn an international crisis into a fierce domestic political battle', 'there are key questions looming over the debate what did un weapons inspectors find in syria what happens if congress votes no and how will the syrian government react', 'in a televised address from the white house rose garden earlier saturday the president said he would take his case to congress not because he has to but because he wants to', 'while i believe i have the authority to carry out this military action without specific congressional authorization i know that the country will be stronger if we take this course and our actions will be even more effective he said we should have this debate because the issues are too big for business as usual', 'obama said top congressional leaders had agreed to schedule a debate when the body returns to washington on september the senate foreign relations committee will hold a hearing over the matter on tuesday sen robert menendez said', 'transcript read obamas full remarks', 'syrian crisis latest developments', 'un inspectors leave syria', 'obamas remarks came shortly after un inspectors left syria carrying evidence that will determine whether chemical weapons were used in an attack early last week in a damascus suburb', 'the aim of the game here the mandate is very clear and that is to ascertain whether chemical weapons were used and not by whom un spokesman martin nesirky told reporters on saturday', 'but who used the weapons in the reported toxic gas attack in a damascus suburb on august has been a key point of global debate over the syrian crisis', 'top us officials have said theres no doubt that the syrian government was behind it while syrian officials have denied responsibility and blamed jihadists fighting with the rebels', 'british and us intelligence reports say the attack involved chemical weapons but un officials have stressed the importance of waiting for an official report from inspectors', 'the inspectors will share their findings with un secretarygeneral ban kimoon ban who has said he wants to wait until the un teams final report is completed before presenting it to the un security council', 'the organization for the prohibition of chemical weapons which nine of the inspectors belong to said saturday that it could take up to three weeks to analyze the evidence they collected', 'it needs time to be able to analyze the information and the samples nesirky said', 'he noted that ban has repeatedly said there is no alternative to a political solution to the crisis in syria and that a military solution is not an option', 'bergen syria is a problem from hell for the us', 'obama this menace must be confronted', 'obamas senior advisers have debated the next steps to take and the presidents comments saturday came amid mounting political pressure over the situation in syria some us lawmakers have called for immediate action while others warn of stepping into what could become a quagmire', 'some global leaders have expressed support but the british parliaments vote against military action earlier this week was a blow to obamas hopes of getting strong backing from key nato allies', 'on saturday obama proposed what he said would be a limited military action against syrian president bashar alassad any military attack would not be openended or include us ground forces he said', 'syrias alleged use of chemical weapons earlier this month is an assault on human dignity the president said', 'a failure to respond with force obama argued could lead to escalating use of chemical weapons or their proliferation to terrorist groups who would do our people harm in a world with many dangers this menace must be confronted', 'syria missile strike what would happen next', 'map us and allied assets around syria', 'obama decision came friday night', 'on friday night the president made a lastminute decision to consult lawmakers', 'what will happen if they vote no', 'its unclear a senior administration official told cnn that obama has the authority to act without congress even if congress rejects his request for authorization to use force', 'obama on saturday continued to shore up support for a strike on the alassad government', 'he spoke by phone with french president francois hollande before his rose garden speech', 'the two leaders agreed that the international community must deliver a resolute message to the assad regime and others who would consider using chemical weapons that these crimes are unacceptable and those who violate this international norm will be held accountable by the world the white house said', 'meanwhile as uncertainty loomed over how congress would weigh in us military officials said they remained at the ready', 'key assertions us intelligence report on syria', 'syria who wants what after chemical weapons horror', 'reactions mixed to obamas speech', 'a spokesman for the syrian national coalition said that the opposition group was disappointed by obamas announcement', 'our fear now is that the lack of action could embolden the regime and they repeat his attacks in a more serious way said spokesman louay safi so we are quite concerned', 'some members of congress applauded obamas decision', 'house speaker john boehner majority leader eric cantor majority whip kevin mccarthy and conference chair cathy mcmorris rodgers issued a statement saturday praising the president', 'under the constitution the responsibility to declare war lies with congress the republican lawmakers said we are glad the president is seeking authorization for any military action in syria in response to serious substantive questions being raised', 'more than legislators including of obamas fellow democrats had signed letters calling for either a vote or at least a full debate before any us action', 'british prime minister david cameron whose own attempt to get lawmakers in his country to support military action in syria failed earlier this week responded to obamas speech in a twitter post saturday', 'i understand and support barack obamas position on syria cameron said', 'an influential lawmaker in russia which has stood by syria and criticized the united states had his own theory', 'the main reason obama is turning to the congress the military operation did not get enough support either in the world among allies of the us or in the united states itself alexei pushkov chairman of the internationalaffairs committee of the russian state duma said in a twitter post', 'in the united states scattered groups of antiwar protesters around the country took to the streets saturday', 'like many other americanswere just tired of the united states getting involved and invading and bombing other countries said robin rosecrans who was among hundreds at a los angeles demonstration', 'what do syrias neighbors think', 'why russia china iran stand by assad', 'syrias government unfazed', 'after obamas speech a military and political analyst on syrian state tv said obama is embarrassed that russia opposes military action against syria is crying for help for someone to come to his rescue and is facing two defeats on the political and military levels', 'syrias prime minister appeared unfazed by the saberrattling', 'the syrian armys status is on maximum readiness and fingers are on the trigger to confront all challenges wael nader alhalqi said during a meeting with a delegation of syrian expatriates from italy according to a banner on syria state tv that was broadcast prior to obamas address', 'an anchor on syrian state television said obama appeared to be preparing for an aggression on syria based on repeated lies', 'a top syrian diplomat told the state television network that obama was facing pressure to take military action from israel turkey some arabs and rightwing extremists in the united states', 'i think he has done well by doing what cameron did in terms of taking the issue to parliament said bashar jaafari syrias ambassador to the united nations', 'both obama and cameron he said climbed to the top of the tree and dont know how to get down', 'the syrian government has denied that it used chemical weapons in the august attack saying that jihadists fighting with the rebels used them in an effort to turn global sentiments against it', 'british intelligence had put the number of people killed in the attack at more than', 'on saturday obama said all told well over people were murdered us secretary of state john kerry on friday cited a death toll of more than of them children no explanation was offered for the discrepancy', 'iran us military action in syria would spark disaster', 'opinion why strikes in syria are a bad idea']\n",
      "\n",
      "['syrian official obama climbed to the top of the tree doesnt know how to get down', 'obama sends a letter to the heads of the house and senate', 'obama to seek congressional approval on military action against syria', 'aim is to determine whether cw were used not by whom says un spokesman']\n"
     ]
    }
   ],
   "source": [
    "print(input_texts[0])\n",
    "print(\"\")\n",
    "print(target_texts[0])"
   ]
  },
  {
   "cell_type": "markdown",
   "metadata": {},
   "source": [
    "### 1.3 : Sentence reprentation in TF-IDF "
   ]
  },
  {
   "cell_type": "code",
   "execution_count": 86,
   "metadata": {},
   "outputs": [
    {
     "name": "stdout",
     "output_type": "stream",
     "text": [
      "['its official us president barack obama wants lawmakers to weigh in on whether to use military force in syria', 'obama sent a letter to the heads of the house and senate on saturday night hours after announcing that he believes military action against syrian targets is the right step to take over the alleged use of chemical weapons', 'the proposed legislation from obama asks congress to approve the use of military force to deter disrupt prevent and degrade the potential for future uses of chemical weapons or other weapons of mass destruction', 'its a step that is set to turn an international crisis into a fierce domestic political battle', 'there are key questions looming over the debate what did un weapons inspectors find in syria what happens if congress votes no and how will the syrian government react', 'in a televised address from the white house rose garden earlier saturday the president said he would take his case to congress not because he has to but because he wants to', 'while i believe i have the authority to carry out this military action without specific congressional authorization i know that the country will be stronger if we take this course and our actions will be even more effective he said we should have this debate because the issues are too big for business as usual', 'obama said top congressional leaders had agreed to schedule a debate when the body returns to washington on september the senate foreign relations committee will hold a hearing over the matter on tuesday sen robert menendez said', 'transcript read obamas full remarks', 'syrian crisis latest developments', 'un inspectors leave syria', 'obamas remarks came shortly after un inspectors left syria carrying evidence that will determine whether chemical weapons were used in an attack early last week in a damascus suburb', 'the aim of the game here the mandate is very clear and that is to ascertain whether chemical weapons were used and not by whom un spokesman martin nesirky told reporters on saturday', 'but who used the weapons in the reported toxic gas attack in a damascus suburb on august has been a key point of global debate over the syrian crisis', 'top us officials have said theres no doubt that the syrian government was behind it while syrian officials have denied responsibility and blamed jihadists fighting with the rebels', 'british and us intelligence reports say the attack involved chemical weapons but un officials have stressed the importance of waiting for an official report from inspectors', 'the inspectors will share their findings with un secretarygeneral ban kimoon ban who has said he wants to wait until the un teams final report is completed before presenting it to the un security council', 'the organization for the prohibition of chemical weapons which nine of the inspectors belong to said saturday that it could take up to three weeks to analyze the evidence they collected', 'it needs time to be able to analyze the information and the samples nesirky said', 'he noted that ban has repeatedly said there is no alternative to a political solution to the crisis in syria and that a military solution is not an option', 'bergen syria is a problem from hell for the us', 'obama this menace must be confronted', 'obamas senior advisers have debated the next steps to take and the presidents comments saturday came amid mounting political pressure over the situation in syria some us lawmakers have called for immediate action while others warn of stepping into what could become a quagmire', 'some global leaders have expressed support but the british parliaments vote against military action earlier this week was a blow to obamas hopes of getting strong backing from key nato allies', 'on saturday obama proposed what he said would be a limited military action against syrian president bashar alassad any military attack would not be openended or include us ground forces he said', 'syrias alleged use of chemical weapons earlier this month is an assault on human dignity the president said', 'a failure to respond with force obama argued could lead to escalating use of chemical weapons or their proliferation to terrorist groups who would do our people harm in a world with many dangers this menace must be confronted', 'syria missile strike what would happen next', 'map us and allied assets around syria', 'obama decision came friday night', 'on friday night the president made a lastminute decision to consult lawmakers', 'what will happen if they vote no', 'its unclear a senior administration official told cnn that obama has the authority to act without congress even if congress rejects his request for authorization to use force', 'obama on saturday continued to shore up support for a strike on the alassad government', 'he spoke by phone with french president francois hollande before his rose garden speech', 'the two leaders agreed that the international community must deliver a resolute message to the assad regime and others who would consider using chemical weapons that these crimes are unacceptable and those who violate this international norm will be held accountable by the world the white house said', 'meanwhile as uncertainty loomed over how congress would weigh in us military officials said they remained at the ready', 'key assertions us intelligence report on syria', 'syria who wants what after chemical weapons horror', 'reactions mixed to obamas speech', 'a spokesman for the syrian national coalition said that the opposition group was disappointed by obamas announcement', 'our fear now is that the lack of action could embolden the regime and they repeat his attacks in a more serious way said spokesman louay safi so we are quite concerned', 'some members of congress applauded obamas decision', 'house speaker john boehner majority leader eric cantor majority whip kevin mccarthy and conference chair cathy mcmorris rodgers issued a statement saturday praising the president', 'under the constitution the responsibility to declare war lies with congress the republican lawmakers said we are glad the president is seeking authorization for any military action in syria in response to serious substantive questions being raised', 'more than legislators including of obamas fellow democrats had signed letters calling for either a vote or at least a full debate before any us action', 'british prime minister david cameron whose own attempt to get lawmakers in his country to support military action in syria failed earlier this week responded to obamas speech in a twitter post saturday', 'i understand and support barack obamas position on syria cameron said', 'an influential lawmaker in russia which has stood by syria and criticized the united states had his own theory', 'the main reason obama is turning to the congress the military operation did not get enough support either in the world among allies of the us or in the united states itself alexei pushkov chairman of the internationalaffairs committee of the russian state duma said in a twitter post', 'in the united states scattered groups of antiwar protesters around the country took to the streets saturday', 'like many other americanswere just tired of the united states getting involved and invading and bombing other countries said robin rosecrans who was among hundreds at a los angeles demonstration', 'what do syrias neighbors think', 'why russia china iran stand by assad', 'syrias government unfazed', 'after obamas speech a military and political analyst on syrian state tv said obama is embarrassed that russia opposes military action against syria is crying for help for someone to come to his rescue and is facing two defeats on the political and military levels', 'syrias prime minister appeared unfazed by the saberrattling', 'the syrian armys status is on maximum readiness and fingers are on the trigger to confront all challenges wael nader alhalqi said during a meeting with a delegation of syrian expatriates from italy according to a banner on syria state tv that was broadcast prior to obamas address', 'an anchor on syrian state television said obama appeared to be preparing for an aggression on syria based on repeated lies', 'a top syrian diplomat told the state television network that obama was facing pressure to take military action from israel turkey some arabs and rightwing extremists in the united states', 'i think he has done well by doing what cameron did in terms of taking the issue to parliament said bashar jaafari syrias ambassador to the united nations', 'both obama and cameron he said climbed to the top of the tree and dont know how to get down', 'the syrian government has denied that it used chemical weapons in the august attack saying that jihadists fighting with the rebels used them in an effort to turn global sentiments against it', 'british intelligence had put the number of people killed in the attack at more than', 'on saturday obama said all told well over people were murdered us secretary of state john kerry on friday cited a death toll of more than of them children no explanation was offered for the discrepancy', 'iran us military action in syria would spark disaster', 'opinion why strikes in syria are a bad idea']\n"
     ]
    },
    {
     "data": {
      "text/plain": [
       "list"
      ]
     },
     "execution_count": 86,
     "metadata": {},
     "output_type": "execute_result"
    }
   ],
   "source": [
    "## Create sentence_list of oly one story (for further demo)\n",
    "sentences_list = input_texts[0]\n",
    "\n",
    "print(sentences_list)\n",
    "type(sentences_list)\n"
   ]
  },
  {
   "cell_type": "code",
   "execution_count": 87,
   "metadata": {},
   "outputs": [],
   "source": [
    "cv = CountVectorizer()\n",
    "cv_matrix = cv.fit_transform(sentences_list)"
   ]
  },
  {
   "cell_type": "code",
   "execution_count": 92,
   "metadata": {},
   "outputs": [
    {
     "name": "stdout",
     "output_type": "stream",
     "text": [
      "The data type of bow matrix <class 'scipy.sparse.csr.csr_matrix'>\n",
      "Shape of the matrix <bound method spmatrix.get_shape of <67x582 sparse matrix of type '<class 'numpy.int64'>'\n",
      "\twith 1321 stored elements in Compressed Sparse Row format>>\n",
      "Size of the matrix is: 56\n",
      "['able', 'according', 'accountable', 'act', 'action', 'actions', 'address', 'administration', 'advisers', 'after', 'against', 'aggression', 'agreed', 'aim', 'alassad', 'alexei', 'alhalqi', 'all', 'alleged', 'allied', 'allies', 'alternative', 'ambassador', 'americanswere', 'amid', 'among', 'an', 'analyst', 'analyze', 'anchor', 'and', 'angeles', 'announcement', 'announcing', 'antiwar', 'any', 'appeared', 'applauded', 'approve', 'arabs', 'are', 'argued', 'armys', 'around', 'as', 'ascertain', 'asks', 'assad', 'assault', 'assertions', 'assets', 'at', 'attack', 'attacks', 'attempt', 'august', 'authority', 'authorization', 'backing', 'bad', 'ban', 'banner', 'barack', 'based', 'bashar', 'battle', 'be', 'because', 'become', 'been', 'before', 'behind', 'being', 'believe', 'believes', 'belong', 'bergen', 'big', 'blamed', 'blow', 'body', 'boehner', 'bombing', 'both', 'british', 'broadcast', 'business', 'but', 'by', 'called', 'calling', 'came', 'cameron', 'cantor', 'carry', 'carrying', 'case', 'cathy', 'chair', 'chairman', 'challenges', 'chemical', 'children', 'china', 'cited', 'clear', 'climbed', 'cnn', 'coalition', 'collected', 'come', 'comments', 'committee', 'community', 'completed', 'concerned', 'conference', 'confront', 'confronted', 'congress', 'congressional', 'consider', 'constitution', 'consult', 'continued', 'could', 'council', 'countries', 'country', 'course', 'crimes', 'crisis', 'criticized', 'crying', 'damascus', 'dangers', 'david', 'death', 'debate', 'debated', 'decision', 'declare', 'defeats', 'degrade', 'delegation', 'deliver', 'democrats', 'demonstration', 'denied', 'destruction', 'deter', 'determine', 'developments', 'did', 'dignity', 'diplomat', 'disappointed', 'disaster', 'discrepancy', 'disrupt', 'do', 'doing', 'domestic', 'done', 'dont', 'doubt', 'down', 'duma', 'during', 'earlier', 'early', 'effective', 'effort', 'either', 'embarrassed', 'embolden', 'enough', 'eric', 'escalating', 'even', 'evidence', 'expatriates', 'explanation', 'expressed', 'extremists', 'facing', 'failed', 'failure', 'fear', 'fellow', 'fierce', 'fighting', 'final', 'find', 'findings', 'fingers', 'for', 'force', 'forces', 'foreign', 'francois', 'french', 'friday', 'from', 'full', 'future', 'game', 'garden', 'gas', 'get', 'getting', 'glad', 'global', 'government', 'ground', 'group', 'groups', 'had', 'happen', 'happens', 'harm', 'has', 'have', 'he', 'heads', 'hearing', 'held', 'hell', 'help', 'here', 'his', 'hold', 'hollande', 'hopes', 'horror', 'hours', 'house', 'how', 'human', 'hundreds', 'idea', 'if', 'immediate', 'importance', 'in', 'include', 'including', 'influential', 'information', 'inspectors', 'intelligence', 'international', 'internationalaffairs', 'into', 'invading', 'involved', 'iran', 'is', 'israel', 'issue', 'issued', 'issues', 'it', 'italy', 'its', 'itself', 'jaafari', 'jihadists', 'john', 'just', 'kerry', 'kevin', 'key', 'killed', 'kimoon', 'know', 'lack', 'last', 'lastminute', 'latest', 'lawmaker', 'lawmakers', 'lead', 'leader', 'leaders', 'least', 'leave', 'left', 'legislation', 'legislators', 'letter', 'letters', 'levels', 'lies', 'like', 'limited', 'loomed', 'looming', 'los', 'louay', 'made', 'main', 'majority', 'mandate', 'many', 'map', 'martin', 'mass', 'matter', 'maximum', 'mccarthy', 'mcmorris', 'meanwhile', 'meeting', 'members', 'menace', 'menendez', 'message', 'military', 'minister', 'missile', 'mixed', 'month', 'more', 'mounting', 'murdered', 'must', 'nader', 'national', 'nations', 'nato', 'needs', 'neighbors', 'nesirky', 'network', 'next', 'night', 'nine', 'no', 'norm', 'not', 'noted', 'now', 'number', 'obama', 'obamas', 'of', 'offered', 'official', 'officials', 'on', 'openended', 'operation', 'opinion', 'opposes', 'opposition', 'option', 'or', 'organization', 'other', 'others', 'our', 'out', 'over', 'own', 'parliament', 'parliaments', 'people', 'phone', 'point', 'political', 'position', 'post', 'potential', 'praising', 'preparing', 'presenting', 'president', 'presidents', 'pressure', 'prevent', 'prime', 'prior', 'problem', 'prohibition', 'proliferation', 'proposed', 'protesters', 'pushkov', 'put', 'quagmire', 'questions', 'quite', 'raised', 'react', 'reactions', 'read', 'readiness', 'ready', 'reason', 'rebels', 'regime', 'rejects', 'relations', 'remained', 'remarks', 'repeat', 'repeated', 'repeatedly', 'report', 'reported', 'reporters', 'reports', 'republican', 'request', 'rescue', 'resolute', 'respond', 'responded', 'response', 'responsibility', 'returns', 'right', 'rightwing', 'robert', 'robin', 'rodgers', 'rose', 'rosecrans', 'russia', 'russian', 'saberrattling', 'safi', 'said', 'samples', 'saturday', 'say', 'saying', 'scattered', 'schedule', 'secretary', 'secretarygeneral', 'security', 'seeking', 'sen', 'senate', 'senior', 'sent', 'sentiments', 'september', 'serious', 'set', 'share', 'shore', 'shortly', 'should', 'signed', 'situation', 'so', 'solution', 'some', 'someone', 'spark', 'speaker', 'specific', 'speech', 'spoke', 'spokesman', 'stand', 'state', 'statement', 'states', 'status', 'step', 'stepping', 'steps', 'stood', 'streets', 'stressed', 'strike', 'strikes', 'strong', 'stronger', 'substantive', 'suburb', 'support', 'syria', 'syrian', 'syrias', 'take', 'taking', 'targets', 'teams', 'televised', 'television', 'terms', 'terrorist', 'than', 'that', 'the', 'their', 'them', 'theory', 'there', 'theres', 'these', 'they', 'think', 'this', 'those', 'three', 'time', 'tired', 'to', 'told', 'toll', 'too', 'took', 'top', 'toxic', 'transcript', 'tree', 'trigger', 'tuesday', 'turkey', 'turn', 'turning', 'tv', 'twitter', 'two', 'un', 'unacceptable', 'uncertainty', 'unclear', 'under', 'understand', 'unfazed', 'united', 'until', 'up', 'us', 'use', 'used', 'uses', 'using', 'usual', 'very', 'violate', 'vote', 'votes', 'wael', 'wait', 'waiting', 'wants', 'war', 'warn', 'was', 'washington', 'way', 'we', 'weapons', 'week', 'weeks', 'weigh', 'well', 'were', 'what', 'when', 'whether', 'which', 'while', 'whip', 'white', 'who', 'whom', 'whose', 'why', 'will', 'with', 'without', 'world', 'would']\n",
      "[[0 0 0 ... 0 0 0]\n",
      " [0 0 0 ... 0 0 0]\n",
      " [0 0 0 ... 0 0 0]\n",
      " ...\n",
      " [0 0 0 ... 0 0 0]\n",
      " [0 0 0 ... 0 0 1]\n",
      " [0 0 0 ... 0 0 0]]\n"
     ]
    }
   ],
   "source": [
    "print('The data type of bow matrix {}'.format(type(cv_matrix)))\n",
    "print('Shape of the matrix {}'.format(cv_matrix.get_shape))\n",
    "print('Size of the matrix is: {}'.format(sys.getsizeof(cv_matrix)))\n",
    "print(cv.get_feature_names())\n",
    "print(cv_matrix.toarray())"
   ]
  },
  {
   "cell_type": "code",
   "execution_count": 93,
   "metadata": {},
   "outputs": [
    {
     "name": "stdout",
     "output_type": "stream",
     "text": [
      "[[0.         0.         0.         ... 0.         0.         0.        ]\n",
      " [0.         0.         0.         ... 0.         0.         0.        ]\n",
      " [0.         0.         0.         ... 0.         0.         0.        ]\n",
      " ...\n",
      " [0.         0.         0.         ... 0.         0.         0.        ]\n",
      " [0.         0.         0.         ... 0.         0.         0.31867527]\n",
      " [0.         0.         0.         ... 0.         0.         0.        ]]\n"
     ]
    }
   ],
   "source": [
    "## Get TF-IDF\n",
    "normal_matrix = TfidfTransformer().fit_transform(cv_matrix)\n",
    "print(normal_matrix.toarray())"
   ]
  },
  {
   "cell_type": "markdown",
   "metadata": {},
   "source": [
    "### 1.4 :  Graph Reprentation"
   ]
  },
  {
   "cell_type": "code",
   "execution_count": 96,
   "metadata": {},
   "outputs": [],
   "source": [
    "## Fraph represntation\n",
    "\n",
    "res_graph = normal_matrix * normal_matrix.T"
   ]
  },
  {
   "cell_type": "code",
   "execution_count": 97,
   "metadata": {},
   "outputs": [
    {
     "data": {
      "text/plain": [
       "<matplotlib.lines.Line2D at 0x2361add86c8>"
      ]
     },
     "execution_count": 97,
     "metadata": {},
     "output_type": "execute_result"
    },
    {
     "data": {
      "image/png": "[encoded data removed]",
      "text/plain": [
       "<Figure size 432x288 with 1 Axes>"
      ]
     },
     "metadata": {
      "needs_background": "light"
     },
     "output_type": "display_data"
    }
   ],
   "source": [
    "plt.spy(res_graph)"
   ]
  },
  {
   "cell_type": "code",
   "execution_count": 101,
   "metadata": {},
   "outputs": [
    {
     "name": "stdout",
     "output_type": "stream",
     "text": [
      "Number of edges 1613\n",
      "Number of vertices 67\n"
     ]
    },
    {
     "data": {
      "image/png": "[encoded data removed]",
      "text/plain": [
       "<Figure size 432x288 with 1 Axes>"
      ]
     },
     "metadata": {},
     "output_type": "display_data"
    },
    {
     "name": "stdout",
     "output_type": "stream",
     "text": [
      "The memory used by the graph in Bytes is: 56\n"
     ]
    }
   ],
   "source": [
    "nx_graph = nx.from_scipy_sparse_matrix(res_graph)\n",
    "nx.draw_circular(nx_graph)\n",
    "print('Number of edges {}'.format(nx_graph.number_of_edges()))\n",
    "print('Number of vertices {}'.format(nx_graph.number_of_nodes()))\n",
    "plt.title(\"Graph of nodes and ages \\n Note that the graph above is dense and therefor it resembles a circle. if a shorter document is taken, a beautiful circular graph can be seen\")\n",
    "# if a shorter document is taken, a beautiful circular graph can be seen\")\n",
    "plt.show()\n",
    "print('The memory used by the graph in Bytes is: {}'.format(sys.getsizeof(nx_graph)))"
   ]
  },
  {
   "cell_type": "markdown",
   "metadata": {},
   "source": [
    "### 1.5 Text Rank Algorithm "
   ]
  },
  {
   "cell_type": "code",
   "execution_count": 102,
   "metadata": {},
   "outputs": [
    {
     "name": "stdout",
     "output_type": "stream",
     "text": [
      "<class 'dict'>\n",
      "The size used by the dictionary in Bytes is: 2280\n",
      "0 0.019976847428981568\n",
      "1 0.023361695390022325\n",
      "2 0.018764779104440025\n",
      "3 0.01100975056893165\n",
      "4 0.01931024891746466\n",
      "5 0.01889714354588037\n",
      "6 0.01690639376191603\n",
      "7 0.015458135235850223\n",
      "8 0.00840505603295501\n",
      "9 0.008231674251908747\n",
      "10 0.01024490083558739\n",
      "11 0.015472794489200832\n",
      "12 0.019103545278298446\n",
      "13 0.018650374594220455\n",
      "14 0.01579626360760051\n",
      "15 0.017845114230981337\n",
      "16 0.01610366840875082\n",
      "17 0.020741371529259714\n",
      "18 0.015334012686168333\n",
      "19 0.018788667663206235\n",
      "20 0.014013086634892856\n",
      "21 0.00971446925914435\n",
      "22 0.01845198109150243\n",
      "23 0.015265778398250532\n",
      "24 0.017540521765514263\n",
      "25 0.0170513554013666\n",
      "26 0.016228312702071458\n",
      "27 0.010916725372220316\n",
      "28 0.010451779482670552\n",
      "29 0.009674194912981727\n",
      "30 0.014149954820830302\n",
      "31 0.010469191014511567\n",
      "32 0.01458748148266377\n",
      "33 0.016280290230939087\n",
      "34 0.009861936282525349\n",
      "35 0.018366948714725606\n",
      "36 0.014056658543079095\n",
      "37 0.01227869438172878\n",
      "38 0.012764440074220812\n",
      "39 0.01041147620444355\n",
      "40 0.015053711569757848\n",
      "41 0.014758402815340401\n",
      "42 0.010971625966048422\n",
      "43 0.008759554661144883\n",
      "44 0.01973481238325852\n",
      "45 0.011988349198986226\n",
      "46 0.018114350259228633\n",
      "47 0.014202192890043996\n",
      "48 0.014632830182103393\n",
      "49 0.022178498624361158\n",
      "50 0.016159741605384435\n",
      "51 0.011290387659085376\n",
      "52 0.009495832910204616\n",
      "53 0.008588452283916784\n",
      "54 0.009495116463455435\n",
      "55 0.021090983857308756\n",
      "56 0.011831307426928759\n",
      "57 0.018533002307632194\n",
      "58 0.016139820239006567\n",
      "59 0.0174931897056056\n",
      "60 0.017532083338065232\n",
      "61 0.01777349886880694\n",
      "62 0.018755062417785923\n",
      "63 0.014427213595869307\n",
      "64 0.016091046395908287\n",
      "65 0.01400118001214295\n",
      "66 0.009970038030711656\n"
     ]
    }
   ],
   "source": [
    "## ranks is a dictionary with key=node(sentences) and value=textrank (the rank of each of the sentences)\n",
    "ranks = nx.pagerank(nx_graph)\n",
    "\n",
    "## analyse the data type of ranks\n",
    "print(type(ranks))\n",
    "print('The size used by the dictionary in Bytes is: {}'.format(sys.getsizeof(ranks)))\n",
    "\n",
    "## print the dictionary\n",
    "for i in ranks:\n",
    "    print(i, ranks[i])"
   ]
  },
  {
   "cell_type": "markdown",
   "metadata": {},
   "source": [
    "### 1.6: FInding Impotrance Sentences "
   ]
  },
  {
   "cell_type": "code",
   "execution_count": 106,
   "metadata": {},
   "outputs": [],
   "source": [
    "sentence_array = sorted(((ranks[i], s) for i, s in enumerate(sentences_list)), reverse=True)\n",
    "sentence_array = np.asarray(sentence_array)"
   ]
  },
  {
   "cell_type": "code",
   "execution_count": 107,
   "metadata": {},
   "outputs": [
    {
     "name": "stdout",
     "output_type": "stream",
     "text": [
      "0.023361695390022325\n",
      "0.008231674251908747\n"
     ]
    }
   ],
   "source": [
    "## as sentence_array is in descending order wrt score value the first value is with the largest score \n",
    "## and the last vaue is with the smallest score\n",
    "rank_max = float(sentence_array[0][0])\n",
    "rank_min = float(sentence_array[len(sentence_array) - 1][0])\n",
    "print(rank_max)\n",
    "print(rank_min)"
   ]
  },
  {
   "cell_type": "code",
   "execution_count": 109,
   "metadata": {},
   "outputs": [
    {
     "name": "stdout",
     "output_type": "stream",
     "text": [
      "67\n"
     ]
    }
   ],
   "source": [
    "## Normalize the score\n",
    "temp_array = []\n",
    "\n",
    "\n",
    "flag = 0\n",
    "if rank_max - rank_min == 0:\n",
    "    temp_array.append(0)\n",
    "    flag = 1\n",
    "\n",
    "## If the sentence has different ranks\n",
    "if flag != 1:\n",
    "    for i in range(0, len(sentence_array)):\n",
    "        temp_array.append((float(sentence_array[i][0]) - rank_min) / (rank_max - rank_min))\n",
    "\n",
    "print(len(temp_array))"
   ]
  },
  {
   "cell_type": "code",
   "execution_count": 110,
   "metadata": {},
   "outputs": [],
   "source": [
    "## We take the mean value of normalized scores\n",
    "## any sentence with the normalized score 0.2 more than the mean value is considered to be imporartance.\n",
    "## this approach can be twicked, if needed\n",
    "threshold = (sum(temp_array) / len(temp_array)) + 0.2"
   ]
  },
  {
   "cell_type": "code",
   "execution_count": 111,
   "metadata": {},
   "outputs": [],
   "source": [
    "important_sentence_list = []\n",
    "if len(temp_array) > 1:\n",
    "    for i in range(0, len(temp_array)):\n",
    "        if temp_array[i] > threshold:\n",
    "                important_sentence_list.append(sentence_array[i][1])\n",
    "else:\n",
    "    important_sentence_list.append(sentence_array[0][1])"
   ]
  },
  {
   "cell_type": "markdown",
   "metadata": {},
   "source": [
    "### 1.7 : Get Summary "
   ]
  },
  {
   "cell_type": "code",
   "execution_count": 115,
   "metadata": {},
   "outputs": [],
   "source": [
    "def get_summary(topn):\n",
    "    summary = \" \".join(str(x) for i,x in enumerate(important_sentence_list) if i <= topn)\n",
    "    return summary\n",
    "\n",
    "summary = get_summary(5)\n"
   ]
  },
  {
   "cell_type": "code",
   "execution_count": 117,
   "metadata": {},
   "outputs": [
    {
     "name": "stdout",
     "output_type": "stream",
     "text": [
      "Original story : ['its official us president barack obama wants lawmakers to weigh in on whether to use military force in syria', 'obama sent a letter to the heads of the house and senate on saturday night hours after announcing that he believes military action against syrian targets is the right step to take over the alleged use of chemical weapons', 'the proposed legislation from obama asks congress to approve the use of military force to deter disrupt prevent and degrade the potential for future uses of chemical weapons or other weapons of mass destruction', 'its a step that is set to turn an international crisis into a fierce domestic political battle', 'there are key questions looming over the debate what did un weapons inspectors find in syria what happens if congress votes no and how will the syrian government react', 'in a televised address from the white house rose garden earlier saturday the president said he would take his case to congress not because he has to but because he wants to', 'while i believe i have the authority to carry out this military action without specific congressional authorization i know that the country will be stronger if we take this course and our actions will be even more effective he said we should have this debate because the issues are too big for business as usual', 'obama said top congressional leaders had agreed to schedule a debate when the body returns to washington on september the senate foreign relations committee will hold a hearing over the matter on tuesday sen robert menendez said', 'transcript read obamas full remarks', 'syrian crisis latest developments', 'un inspectors leave syria', 'obamas remarks came shortly after un inspectors left syria carrying evidence that will determine whether chemical weapons were used in an attack early last week in a damascus suburb', 'the aim of the game here the mandate is very clear and that is to ascertain whether chemical weapons were used and not by whom un spokesman martin nesirky told reporters on saturday', 'but who used the weapons in the reported toxic gas attack in a damascus suburb on august has been a key point of global debate over the syrian crisis', 'top us officials have said theres no doubt that the syrian government was behind it while syrian officials have denied responsibility and blamed jihadists fighting with the rebels', 'british and us intelligence reports say the attack involved chemical weapons but un officials have stressed the importance of waiting for an official report from inspectors', 'the inspectors will share their findings with un secretarygeneral ban kimoon ban who has said he wants to wait until the un teams final report is completed before presenting it to the un security council', 'the organization for the prohibition of chemical weapons which nine of the inspectors belong to said saturday that it could take up to three weeks to analyze the evidence they collected', 'it needs time to be able to analyze the information and the samples nesirky said', 'he noted that ban has repeatedly said there is no alternative to a political solution to the crisis in syria and that a military solution is not an option', 'bergen syria is a problem from hell for the us', 'obama this menace must be confronted', 'obamas senior advisers have debated the next steps to take and the presidents comments saturday came amid mounting political pressure over the situation in syria some us lawmakers have called for immediate action while others warn of stepping into what could become a quagmire', 'some global leaders have expressed support but the british parliaments vote against military action earlier this week was a blow to obamas hopes of getting strong backing from key nato allies', 'on saturday obama proposed what he said would be a limited military action against syrian president bashar alassad any military attack would not be openended or include us ground forces he said', 'syrias alleged use of chemical weapons earlier this month is an assault on human dignity the president said', 'a failure to respond with force obama argued could lead to escalating use of chemical weapons or their proliferation to terrorist groups who would do our people harm in a world with many dangers this menace must be confronted', 'syria missile strike what would happen next', 'map us and allied assets around syria', 'obama decision came friday night', 'on friday night the president made a lastminute decision to consult lawmakers', 'what will happen if they vote no', 'its unclear a senior administration official told cnn that obama has the authority to act without congress even if congress rejects his request for authorization to use force', 'obama on saturday continued to shore up support for a strike on the alassad government', 'he spoke by phone with french president francois hollande before his rose garden speech', 'the two leaders agreed that the international community must deliver a resolute message to the assad regime and others who would consider using chemical weapons that these crimes are unacceptable and those who violate this international norm will be held accountable by the world the white house said', 'meanwhile as uncertainty loomed over how congress would weigh in us military officials said they remained at the ready', 'key assertions us intelligence report on syria', 'syria who wants what after chemical weapons horror', 'reactions mixed to obamas speech', 'a spokesman for the syrian national coalition said that the opposition group was disappointed by obamas announcement', 'our fear now is that the lack of action could embolden the regime and they repeat his attacks in a more serious way said spokesman louay safi so we are quite concerned', 'some members of congress applauded obamas decision', 'house speaker john boehner majority leader eric cantor majority whip kevin mccarthy and conference chair cathy mcmorris rodgers issued a statement saturday praising the president', 'under the constitution the responsibility to declare war lies with congress the republican lawmakers said we are glad the president is seeking authorization for any military action in syria in response to serious substantive questions being raised', 'more than legislators including of obamas fellow democrats had signed letters calling for either a vote or at least a full debate before any us action', 'british prime minister david cameron whose own attempt to get lawmakers in his country to support military action in syria failed earlier this week responded to obamas speech in a twitter post saturday', 'i understand and support barack obamas position on syria cameron said', 'an influential lawmaker in russia which has stood by syria and criticized the united states had his own theory', 'the main reason obama is turning to the congress the military operation did not get enough support either in the world among allies of the us or in the united states itself alexei pushkov chairman of the internationalaffairs committee of the russian state duma said in a twitter post', 'in the united states scattered groups of antiwar protesters around the country took to the streets saturday', 'like many other americanswere just tired of the united states getting involved and invading and bombing other countries said robin rosecrans who was among hundreds at a los angeles demonstration', 'what do syrias neighbors think', 'why russia china iran stand by assad', 'syrias government unfazed', 'after obamas speech a military and political analyst on syrian state tv said obama is embarrassed that russia opposes military action against syria is crying for help for someone to come to his rescue and is facing two defeats on the political and military levels', 'syrias prime minister appeared unfazed by the saberrattling', 'the syrian armys status is on maximum readiness and fingers are on the trigger to confront all challenges wael nader alhalqi said during a meeting with a delegation of syrian expatriates from italy according to a banner on syria state tv that was broadcast prior to obamas address', 'an anchor on syrian state television said obama appeared to be preparing for an aggression on syria based on repeated lies', 'a top syrian diplomat told the state television network that obama was facing pressure to take military action from israel turkey some arabs and rightwing extremists in the united states', 'i think he has done well by doing what cameron did in terms of taking the issue to parliament said bashar jaafari syrias ambassador to the united nations', 'both obama and cameron he said climbed to the top of the tree and dont know how to get down', 'the syrian government has denied that it used chemical weapons in the august attack saying that jihadists fighting with the rebels used them in an effort to turn global sentiments against it', 'british intelligence had put the number of people killed in the attack at more than', 'on saturday obama said all told well over people were murdered us secretary of state john kerry on friday cited a death toll of more than of them children no explanation was offered for the discrepancy', 'iran us military action in syria would spark disaster', 'opinion why strikes in syria are a bad idea']\n",
      "\n",
      "Generated Summary : obama sent a letter to the heads of the house and senate on saturday night hours after announcing that he believes military action against syrian targets is the right step to take over the alleged use of chemical weapons the main reason obama is turning to the congress the military operation did not get enough support either in the world among allies of the us or in the united states itself alexei pushkov chairman of the internationalaffairs committee of the russian state duma said in a twitter post after obamas speech a military and political analyst on syrian state tv said obama is embarrassed that russia opposes military action against syria is crying for help for someone to come to his rescue and is facing two defeats on the political and military levels the organization for the prohibition of chemical weapons which nine of the inspectors belong to said saturday that it could take up to three weeks to analyze the evidence they collected its official us president barack obama wants lawmakers to weigh in on whether to use military force in syria under the constitution the responsibility to declare war lies with congress the republican lawmakers said we are glad the president is seeking authorization for any military action in syria in response to serious substantive questions being raised\n"
     ]
    }
   ],
   "source": [
    "\n",
    "print (\"Original story :\", sentences_list)\n",
    "print(\"\")\n",
    "print(\"Generated Summary :\", summary)"
   ]
  },
  {
   "cell_type": "code",
   "execution_count": null,
   "metadata": {},
   "outputs": [],
   "source": []
  }
 ],
 "metadata": {
  "kernelspec": {
   "display_name": "ai",
   "language": "python",
   "name": "ai"
  },
  "language_info": {
   "codemirror_mode": {
    "name": "ipython",
    "version": 3
   },
   "file_extension": ".py",
   "mimetype": "text/x-python",
   "name": "python",
   "nbconvert_exporter": "python",
   "pygments_lexer": "ipython3",
   "version": "3.7.6"
  }
 },
 "nbformat": 4,
 "nbformat_minor": 4
}
